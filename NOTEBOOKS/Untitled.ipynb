{
 "cells": [
  {
   "cell_type": "markdown",
   "metadata": {},
   "source": [
    "# Bernie's Fragile Family Work\n",
    "\n",
    "Some exploratory work to be merged into the main branch"
   ]
  },
  {
   "cell_type": "code",
   "execution_count": 1,
   "metadata": {
    "collapsed": false
   },
   "outputs": [],
   "source": [
    "import numpy as np\n",
    "import pandas as pd\n",
    "import seaborn as sns\n",
    "sns.set_context('notebook', font_scale=1.5)\n",
    "sns.set_style('white')\n",
    "import matplotlib.pylab as plt\n",
    "%matplotlib inline\n",
    "import os"
   ]
  },
  {
   "cell_type": "code",
   "execution_count": 9,
   "metadata": {
    "collapsed": true
   },
   "outputs": [],
   "source": [
    "import statsmodels.api as sm\n",
    "from statsmodels.formula.api import ols"
   ]
  },
  {
   "cell_type": "code",
   "execution_count": 2,
   "metadata": {
    "collapsed": true
   },
   "outputs": [],
   "source": [
    "ff_data_dir = '~/Documents/Projects/FragileFamilies/FFChallenge/'\n",
    "\n",
    "bg_f = os.path.join(ff_data_dir, 'background.csv')\n",
    "train_f = os.path.join(ff_data_dir, 'train.csv')"
   ]
  },
  {
   "cell_type": "code",
   "execution_count": 4,
   "metadata": {
    "collapsed": false
   },
   "outputs": [
    {
     "name": "stdout",
     "output_type": "stream",
     "text": [
      "~/Documents/Projects/FragileFamilies/FFChallenge/background.csv\n"
     ]
    }
   ],
   "source": [
    "print(bg_f)"
   ]
  },
  {
   "cell_type": "code",
   "execution_count": 5,
   "metadata": {
    "collapsed": true
   },
   "outputs": [],
   "source": [
    "df_bg = pd.read_csv(bg_f, low_memory=False)\n",
    "print(\"Big data loaded\")\n",
    "df_train = pd.read_csv(train_f)\n",
    "print(\"Train data loaded\")\n",
    "df = df_bg.merge(df_train, on='challengeID', how='left')"
   ]
  },
  {
   "cell_type": "code",
   "execution_count": 20,
   "metadata": {
    "collapsed": false
   },
   "outputs": [
    {
     "name": "stdout",
     "output_type": "stream",
     "text": [
      "12802\n"
     ]
    }
   ],
   "source": [
    "results_dict = {}\n",
    "\n",
    "df = df.select_dtypes(include=[np.number])\n",
    "\n",
    "print(len(df.columns))\n",
    "\n",
    "# Loop over the columns \n",
    "for c,col in enumerate(df.columns[1:]):\n",
    "    \n",
    "    \n",
    "    \n",
    "    stats_df = df.loc[(df['gpa'].notnull()) \n",
    "                      & (df[col].notnull())\n",
    "                      & (df[col]>-9), ['gpa', col, 'challengeID']]\n",
    "    \n",
    "    #print(stats_df.describe())\n",
    "    \n",
    "    # If there's no data then don't fit a model!\n",
    "    n = len(stats_df['challengeID'])\n",
    "    \n",
    "    if n > 3:\n",
    "        model = ols(\"gpa ~ {}\".format(col), data=stats_df)\n",
    "\n",
    "        result = model.fit()\n",
    "        \n",
    "        #print(result.summary())\n",
    "        \n",
    "        results_dict[col] = result.rsquared\n",
    "        #pred_df = df.loc[(df[col].notnull()), [col, 'challengeID']]\n",
    "        \n",
    "        #gpa_pred = result.predict(exog=pred_df)\n",
    "        \n",
    "        #print(len(gpa_pred))\n",
    "    if c >  5:\n",
    "        break\n",
    "\n",
    "        \n",
    "        "
   ]
  },
  {
   "cell_type": "code",
   "execution_count": 12,
   "metadata": {
    "collapsed": false
   },
   "outputs": [
    {
     "name": "stdout",
     "output_type": "stream",
     "text": [
      "m1lenhr     3.662989e-03\n",
      "m1lenmin    6.255750e-04\n",
      "cm1fint     3.268237e-06\n",
      "m1intmon   -2.220446e-16\n",
      "dtype: float64\n"
     ]
    }
   ],
   "source": [
    "results_series = pd.Series(results_dict)\n",
    "results_series.sort_values(inplace=True,ascending=False)\n",
    "print(results_series)"
   ]
  },
  {
   "cell_type": "code",
   "execution_count": null,
   "metadata": {
    "collapsed": true
   },
   "outputs": [],
   "source": [
    "model = ols(\"gpa ~ {}\".format(col), data=stats_df)"
   ]
  },
  {
   "cell_type": "code",
   "execution_count": null,
   "metadata": {
    "collapsed": true
   },
   "outputs": [],
   "source": [
    "# This code is meant to be lightweight in practice. \n",
    "def trainingCorr(result, training_data=stats_df):\n",
    "    \n",
    "    "
   ]
  }
 ],
 "metadata": {
  "kernelspec": {
   "display_name": "Python 3",
   "language": "python",
   "name": "python3"
  },
  "language_info": {
   "codemirror_mode": {
    "name": "ipython",
    "version": 3
   },
   "file_extension": ".py",
   "mimetype": "text/x-python",
   "name": "python",
   "nbconvert_exporter": "python",
   "pygments_lexer": "ipython3",
   "version": "3.5.1"
  }
 },
 "nbformat": 4,
 "nbformat_minor": 0
}
