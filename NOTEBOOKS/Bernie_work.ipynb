{
 "cells": [
  {
   "cell_type": "markdown",
   "metadata": {},
   "source": [
    "# Bernie's Fragile Family Work\n",
    "\n",
    "Some exploratory work to be merged into the main branch"
   ]
  },
  {
   "cell_type": "code",
   "execution_count": 1,
   "metadata": {
    "collapsed": false
   },
   "outputs": [],
   "source": [
    "import numpy as np\n",
    "import pandas as pd\n",
    "import seaborn as sns\n",
    "sns.set_context('notebook', font_scale=1.5)\n",
    "sns.set_style('white')\n",
    "import matplotlib.pylab as plt\n",
    "%matplotlib inline\n",
    "import os"
   ]
  },
  {
   "cell_type": "code",
   "execution_count": 9,
   "metadata": {
    "collapsed": true
   },
   "outputs": [],
   "source": [
    "import statsmodels.api as sm\n",
    "from statsmodels.formula.api import ols"
   ]
  },
  {
   "cell_type": "code",
   "execution_count": 2,
   "metadata": {
    "collapsed": true
   },
   "outputs": [],
   "source": [
    "ff_data_dir = '~/Documents/Projects/FragileFamilies/FFChallenge/'\n",
    "\n",
    "bg_f = os.path.join(ff_data_dir, 'background.csv')\n",
    "train_f = os.path.join(ff_data_dir, 'train.csv')"
   ]
  },
  {
   "cell_type": "code",
   "execution_count": 4,
   "metadata": {
    "collapsed": false
   },
   "outputs": [
    {
     "name": "stdout",
     "output_type": "stream",
     "text": [
      "~/Documents/Projects/FragileFamilies/FFChallenge/background.csv\n"
     ]
    }
   ],
   "source": [
    "print(bg_f)"
   ]
  },
  {
   "cell_type": "code",
   "execution_count": 58,
   "metadata": {
    "collapsed": false
   },
   "outputs": [
    {
     "name": "stdout",
     "output_type": "stream",
     "text": [
      "Big data loaded\n",
      "Train data loaded\n"
     ]
    }
   ],
   "source": [
    "df_bg = pd.read_csv(bg_f, low_memory=False)\n",
    "print(\"Big data loaded\")\n",
    "df_train = pd.read_csv(train_f)\n",
    "print(\"Train data loaded\")\n",
    "df = df_bg.merge(df_train, on='challengeID', how='left')"
   ]
  },
  {
   "cell_type": "code",
   "execution_count": 59,
   "metadata": {
    "collapsed": false
   },
   "outputs": [
    {
     "name": "stdout",
     "output_type": "stream",
     "text": [
      "12802\n"
     ]
    },
    {
     "data": {
      "text/html": [
       "<div>\n",
       "<table border=\"1\" class=\"dataframe\">\n",
       "  <thead>\n",
       "    <tr style=\"text-align: right;\">\n",
       "      <th></th>\n",
       "      <th>R^2</th>\n",
       "      <th>N</th>\n",
       "      <th>coeff</th>\n",
       "    </tr>\n",
       "  </thead>\n",
       "  <tbody>\n",
       "    <tr>\n",
       "      <th>cm1fint</th>\n",
       "      <td>3.268237e-06</td>\n",
       "      <td>1165</td>\n",
       "      <td>0.003067</td>\n",
       "    </tr>\n",
       "    <tr>\n",
       "      <th>m1intmon</th>\n",
       "      <td>-2.220446e-16</td>\n",
       "      <td>1165</td>\n",
       "      <td>-0.860021</td>\n",
       "    </tr>\n",
       "    <tr>\n",
       "      <th>m1lenhr</th>\n",
       "      <td>3.662989e-03</td>\n",
       "      <td>1165</td>\n",
       "      <td>0.032131</td>\n",
       "    </tr>\n",
       "    <tr>\n",
       "      <th>m1lenmin</th>\n",
       "      <td>6.255750e-04</td>\n",
       "      <td>1165</td>\n",
       "      <td>-0.001261</td>\n",
       "    </tr>\n",
       "  </tbody>\n",
       "</table>\n",
       "</div>"
      ],
      "text/plain": [
       "                   R^2     N     coeff\n",
       "cm1fint   3.268237e-06  1165  0.003067\n",
       "m1intmon -2.220446e-16  1165 -0.860021\n",
       "m1lenhr   3.662989e-03  1165  0.032131\n",
       "m1lenmin  6.255750e-04  1165 -0.001261"
      ]
     },
     "execution_count": 59,
     "metadata": {},
     "output_type": "execute_result"
    }
   ],
   "source": [
    "results_dict = {}\n",
    "\n",
    "df = df.select_dtypes(include=[np.number])\n",
    "\n",
    "print(len(df.columns))\n",
    "\n",
    "# Loop over the columns \n",
    "for c,col in enumerate(df.columns[1:]):\n",
    "    \n",
    "    \n",
    "    \n",
    "    stats_df = df.loc[(df['gpa'].notnull()) \n",
    "                      & (df[col].notnull())\n",
    "                      & (df[col]>-9), ['gpa', col, 'challengeID']]\n",
    "    \n",
    "    #print(stats_df.describe())\n",
    "    \n",
    "    # If there's no data then don't fit a model!\n",
    "    n = len(stats_df['challengeID'])\n",
    "    \n",
    "    if n > 3:\n",
    "        model = ols(\"gpa ~ {}\".format(col), data=stats_df)\n",
    "\n",
    "        result = model.fit()\n",
    "        \n",
    "        #print(result.summary())\n",
    "        \n",
    "        results_dict[col] = [result.rsquared,result.nobs,result.params[1]]\n",
    "        \n",
    "    if c >  5:\n",
    "        break\n",
    "\n",
    "df2 = pd.DataFrame.from_dict(results_dict)\n",
    "df2 = df2.T\n",
    "df2.columns = [\"R^2\",\"N\",\"coeff\"]    \n",
    "df2"
   ]
  },
  {
   "cell_type": "code",
   "execution_count": 56,
   "metadata": {
    "collapsed": false
   },
   "outputs": [
    {
     "data": {
      "text/html": [
       "<div>\n",
       "<table border=\"1\" class=\"dataframe\">\n",
       "  <thead>\n",
       "    <tr style=\"text-align: right;\">\n",
       "      <th></th>\n",
       "      <th>R^2</th>\n",
       "      <th>N</th>\n",
       "      <th>coeff</th>\n",
       "    </tr>\n",
       "  </thead>\n",
       "  <tbody>\n",
       "    <tr>\n",
       "      <th>ab</th>\n",
       "      <td>1</td>\n",
       "      <td>2</td>\n",
       "      <td>3</td>\n",
       "    </tr>\n",
       "    <tr>\n",
       "      <th>cd</th>\n",
       "      <td>4</td>\n",
       "      <td>6</td>\n",
       "      <td>8</td>\n",
       "    </tr>\n",
       "  </tbody>\n",
       "</table>\n",
       "</div>"
      ],
      "text/plain": [
       "    R^2  N  coeff\n",
       "ab    1  2      3\n",
       "cd    4  6      8"
      ]
     },
     "execution_count": 56,
     "metadata": {},
     "output_type": "execute_result"
    }
   ],
   "source": [
    "x = {\"ab\":[1,2,3],\"cd\":[4,6,8]}\n",
    "df2 = pd.DataFrame.from_dict(x)\n",
    "df2 = df2.T\n",
    "df2.columns = [\"R^2\",\"N\",\"coeff\"]\n",
    "df2"
   ]
  },
  {
   "cell_type": "code",
   "execution_count": 45,
   "metadata": {
    "collapsed": false
   },
   "outputs": [
    {
     "name": "stdout",
     "output_type": "stream",
     "text": [
      "['HC0_se', 'HC1_se', 'HC2_se', 'HC3_se', '_HCCM', '__class__', '__delattr__', '__dict__', '__dir__', '__doc__', '__eq__', '__format__', '__ge__', '__getattribute__', '__gt__', '__hash__', '__init__', '__le__', '__lt__', '__module__', '__ne__', '__new__', '__reduce__', '__reduce_ex__', '__repr__', '__setattr__', '__sizeof__', '__str__', '__subclasshook__', '__weakref__', '_cache', '_data_attr', '_get_robustcov_results', '_is_nested', '_wexog_singular_values', 'aic', 'bic', 'bse', 'centered_tss', 'compare_f_test', 'compare_lm_test', 'compare_lr_test', 'condition_number', 'conf_int', 'conf_int_el', 'cov_HC0', 'cov_HC1', 'cov_HC2', 'cov_HC3', 'cov_kwds', 'cov_params', 'cov_type', 'df_model', 'df_resid', 'eigenvals', 'el_test', 'ess', 'f_pvalue', 'f_test', 'fittedvalues', 'fvalue', 'get_influence', 'get_robustcov_results', 'initialize', 'k_constant', 'llf', 'load', 'model', 'mse_model', 'mse_resid', 'mse_total', 'nobs', 'normalized_cov_params', 'outlier_test', 'params', 'predict', 'pvalues', 'remove_data', 'resid', 'resid_pearson', 'rsquared', 'rsquared_adj', 'save', 'scale', 'ssr', 'summary', 'summary2', 't_test', 'tvalues', 'uncentered_tss', 'use_t', 'wald_test', 'wresid']\n",
      "0.00306652158908\n"
     ]
    }
   ],
   "source": [
    "print(dir(result))\n",
    "print(result.params[1])"
   ]
  },
  {
   "cell_type": "code",
   "execution_count": 12,
   "metadata": {
    "collapsed": false
   },
   "outputs": [
    {
     "name": "stdout",
     "output_type": "stream",
     "text": [
      "m1lenhr     3.662989e-03\n",
      "m1lenmin    6.255750e-04\n",
      "cm1fint     3.268237e-06\n",
      "m1intmon   -2.220446e-16\n",
      "dtype: float64\n"
     ]
    }
   ],
   "source": [
    "results_series = pd.Series(results_dict)\n",
    "results_series.sort_values(inplace=True,ascending=False)\n",
    "print(results_series)"
   ]
  },
  {
   "cell_type": "code",
   "execution_count": null,
   "metadata": {
    "collapsed": true
   },
   "outputs": [],
   "source": [
    "model = ols(\"gpa ~ {}\".format(col), data=stats_df)"
   ]
  },
  {
   "cell_type": "code",
   "execution_count": null,
   "metadata": {
    "collapsed": true
   },
   "outputs": [],
   "source": [
    "# This code is meant to be lightweight in practice. \n",
    "def trainingCorr(result, training_data=stats_df):\n",
    "    \n",
    "    "
   ]
  },
  {
   "cell_type": "code",
   "execution_count": 25,
   "metadata": {
    "collapsed": false
   },
   "outputs": [
    {
     "name": "stdout",
     "output_type": "stream",
     "text": [
      "/Users/crafty/Documents/code2/FragileFamiliesChallenge/NOTEBOOKS\n"
     ]
    }
   ],
   "source": [
    "print(os.getcwd())\n",
    "\n",
    "vartype_df = pd.read_csv(\"../helper_data/ffc_variable_types.csv\")"
   ]
  },
  {
   "cell_type": "code",
   "execution_count": 37,
   "metadata": {
    "collapsed": false
   },
   "outputs": [],
   "source": [
    "vartype_df\n",
    "vartype_df = pd.read_csv(\"../helper_data/ffc_variable_types.csv\")\n",
    "varkeep = vartype_df[\"variable\"][vartype_df[\"variable_type\"] == \"continuous\"]\n",
    "df = df[varkeep]\n"
   ]
  },
  {
   "cell_type": "code",
   "execution_count": 38,
   "metadata": {
    "collapsed": false
   },
   "outputs": [
    {
     "data": {
      "text/plain": [
       "1770"
      ]
     },
     "execution_count": 38,
     "metadata": {},
     "output_type": "execute_result"
    }
   ],
   "source": [
    "len(df.columns)"
   ]
  },
  {
   "cell_type": "code",
   "execution_count": null,
   "metadata": {
    "collapsed": true
   },
   "outputs": [],
   "source": []
  }
 ],
 "metadata": {
  "kernelspec": {
   "display_name": "Python 3",
   "language": "python",
   "name": "python3"
  },
  "language_info": {
   "codemirror_mode": {
    "name": "ipython",
    "version": 3
   },
   "file_extension": ".py",
   "mimetype": "text/x-python",
   "name": "python",
   "nbconvert_exporter": "python",
   "pygments_lexer": "ipython3",
   "version": "3.5.1"
  }
 },
 "nbformat": 4,
 "nbformat_minor": 0
}
